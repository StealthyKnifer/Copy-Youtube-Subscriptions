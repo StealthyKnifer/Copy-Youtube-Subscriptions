{
 "cells": [
  {
   "cell_type": "markdown",
   "metadata": {},
   "source": [
    "# IMPORTING LIBS"
   ]
  },
  {
   "cell_type": "code",
   "execution_count": 1,
   "metadata": {},
   "outputs": [],
   "source": [
    "import time\n",
    "from selenium import webdriver\n",
    "from selenium.webdriver.support.ui import WebDriverWait\n",
    "from selenium.webdriver.support import expected_conditions as EC\n",
    "from selenium.webdriver.common.keys import Keys\n",
    "from selenium.webdriver.common.by import By\n",
    "from tkinter import Tk     \n",
    "from tkinter.filedialog import askopenfilename\n",
    "import os\n",
    "import sys\n",
    "import re\n",
    "import shutil\n",
    "import numpy as np\n",
    "from rich import print\n",
    "from rich.panel import Panel\n",
    "from rich.console import Console\n",
    "from rich.progress import track"
   ]
  },
  {
   "cell_type": "markdown",
   "metadata": {},
   "source": [
    "# HELPER FUNCTIONS"
   ]
  },
  {
   "cell_type": "code",
   "execution_count": 2,
   "metadata": {},
   "outputs": [],
   "source": [
    "def setup_drivers():\n",
    "    data_path = os.getcwd() + \"\\\\data\"\n",
    "    options = webdriver.ChromeOptions()\n",
    "    options.add_argument(fr'--user-data-dir={data_path}')\n",
    "    chromedriver = webdriver.Chrome(executable_path=r'chromedriver.exe',options=options)\n",
    "    wait = WebDriverWait(chromedriver,30)\n",
    "    return chromedriver,wait"
   ]
  },
  {
   "cell_type": "code",
   "execution_count": 3,
   "metadata": {},
   "outputs": [],
   "source": [
    "def copy_data_folder():\n",
    "    src = os.path.expanduser(\"~\") + \"\\\\AppData\\\\Local\\\\Google\\\\Chrome\\\\User Data\"\n",
    "    if not(os.path.exists(src)):\n",
    "        print(\"Google Chrome is needed for this script.\")\n",
    "        print(\"Exiting...\")\n",
    "        time.sleep(2)\n",
    "        sys.exit()\n",
    "    dest = os.getcwd() + \"\\\\data\"\n",
    "    if (os.path.exists(dest)):\n",
    "        shutil.rmtree(dest)\n",
    "    try:\n",
    "        shutil.copytree(src,dest)\n",
    "    except:\n",
    "        pass"
   ]
  },
  {
   "cell_type": "code",
   "execution_count": 4,
   "metadata": {},
   "outputs": [],
   "source": [
    "def switch_acc(chromedriver,wait,email):\n",
    "    chromedriver.get(\"https://www.youtube.com\")\n",
    "    top_btn_xPath = '''//*[@id=\"img\"]'''\n",
    "    wait.until(EC.element_to_be_clickable((By.XPATH,top_btn_xPath))).click()\n",
    "    switch_acc_btn_xPath = '''/html/body/ytd-app/ytd-popup-container/iron-dropdown/div/ytd-multi-page-menu-renderer/div[3]/\n",
    "    div[1]/yt-multi-page-menu-section-renderer[1]/div[2]/ytd-compact-link-renderer[4]/a/paper-item'''\n",
    "    wait.until(EC.element_to_be_clickable((By.XPATH,switch_acc_btn_xPath))).click()\n",
    "    time.sleep(2)\n",
    "    email_elements = chromedriver.find_elements_by_xpath('''//*[@id=\"contents\"]/ytd-account-item-section-renderer/ytd-account-item-section-header-renderer/yt-formatted-string/a''')\n",
    "    email_index = -1\n",
    "    for i in range(len(email_elements)):\n",
    "        if(email_elements[i].text == email):\n",
    "            email_index = i\n",
    "    if(email_index == -1):\n",
    "        return False\n",
    "    switch_elements =  chromedriver.find_elements_by_xpath('''//*[@id=\"contents\"]/ytd-account-item-renderer/paper-icon-item''')\n",
    "    switch_elements[email_index].click()\n",
    "    return True"
   ]
  },
  {
   "cell_type": "code",
   "execution_count": 5,
   "metadata": {},
   "outputs": [],
   "source": [
    "def get_subscriptions(chromedriver,save_to_file=False):\n",
    "    chromedriver.get(\"https://www.youtube.com/feed/channels\")\n",
    "    script = '''\n",
    "    var pageHeight = 0;\n",
    "    function findHighestNode(nodesList) {\n",
    "        for (var i = nodesList.length - 1; i >= 0; i--) {\n",
    "            if (nodesList[i].scrollHeight && nodesList[i].clientHeight) {\n",
    "                var elHeight = Math.max(nodesList[i].scrollHeight, nodesList[i].clientHeight);\n",
    "                pageHeight = Math.max(elHeight, pageHeight);\n",
    "            }\n",
    "            if (nodesList[i].childNodes.length) findHighestNode(nodesList[i].childNodes);\n",
    "        }\n",
    "    }\n",
    "\n",
    "    findHighestNode(document.documentElement.childNodes);\n",
    "    window.scrollTo(0, pageHeight);\n",
    "    pageHeight = 0;\n",
    "    findHighestNode(document.documentElement.childNodes);\n",
    "    return pageHeight\n",
    "    '''\n",
    "    lenOfPage = chromedriver.execute_script(script)\n",
    "    match=False\n",
    "    while(match==False):\n",
    "        lastCount = lenOfPage\n",
    "        time.sleep(3)\n",
    "        lenOfPage = chromedriver.execute_script(script)\n",
    "        if lastCount==lenOfPage:\n",
    "            match=True\n",
    "    html = chromedriver.page_source\n",
    "    finder = re.compile(r'''<yt-formatted-string id=\"text\" title=\"\" class=\"style-scope ytd-channel-name\">(.+?)</yt-formatted-string>''')\n",
    "    subs = finder.findall(html)\n",
    "    if(subs[-1] == \"<!--css-build:shady-->\"):\n",
    "        subs = subs[:-1]\n",
    "    for i in range(len(subs)):\n",
    "        subs[i] = subs[i].replace(\",\",\" \") \n",
    "    if(save_to_file):\n",
    "        subs_array = np.array(subs)\n",
    "        np.savetxt(\"subs.csv\",subs_array,delimiter=\",\",fmt=\"%s\",encoding='utf-8')\n",
    "    return subs"
   ]
  },
  {
   "cell_type": "code",
   "execution_count": 6,
   "metadata": {},
   "outputs": [],
   "source": [
    "def subscriber(chromedriver,subs_list):\n",
    "    search_xPath = '''//*[@id=\"search\"]'''\n",
    "    sub_btn_xPath = '''//*[@id=\"subscribe-button\"]/ytd-subscribe-button-renderer/paper-button'''\n",
    "    for cname in track(subs_list,description=\"Subscribing\"):\n",
    "        chromedriver.get('''https://youtube.com''')\n",
    "        search = wait.until(EC.element_to_be_clickable((By.XPATH,search_xPath)))\n",
    "        search.send_keys(cname + Keys.ENTER)\n",
    "        try:\n",
    "            sub_btn = wait.until(EC.element_to_be_clickable((By.XPATH,sub_btn_xPath)))\n",
    "            sub_btn.click()\n",
    "        except:\n",
    "            continue"
   ]
  },
  {
   "cell_type": "code",
   "execution_count": 7,
   "metadata": {},
   "outputs": [],
   "source": [
    "def exit_program(chromedriver):\n",
    "    chromedriver.close()\n",
    "    data_path = os.getcwd() + \"\\\\data\"\n",
    "    os.system('cls')\n",
    "    print(\"Deleting temp files....\")\n",
    "    try:\n",
    "        shutil.rmtree(data_path)\n",
    "        print(\"Deleted temp files. Exiting...\")\n",
    "    except:\n",
    "        print(\"Error deleting temp files. Manually delete \\data folder.\\nExiting...\")\n",
    "    time.sleep(2)\n",
    "    os.system('cls')\n",
    "    sys.exit()"
   ]
  },
  {
   "cell_type": "code",
   "execution_count": 9,
   "metadata": {},
   "outputs": [
    {
     "data": {
      "text/html": [
       "<pre style=\"white-space:pre;overflow-x:auto;line-height:normal;font-family:Menlo,'DejaVu Sans Mono',consolas,'Courier New',monospace\">Copying chrome data<span style=\"color: #808000\">...</span>..\n",
       "</pre>\n"
      ],
      "text/plain": [
       "<rich.jupyter.JupyterRenderable at 0x220fbceaee0>"
      ]
     },
     "metadata": {},
     "output_type": "display_data"
    },
    {
     "data": {
      "text/html": [
       "<pre style=\"white-space:pre;overflow-x:auto;line-height:normal;font-family:Menlo,'DejaVu Sans Mono',consolas,'Courier New',monospace\">Copying finished.\n",
       "</pre>\n"
      ],
      "text/plain": [
       "<rich.jupyter.JupyterRenderable at 0x220fd59a5e0>"
      ]
     },
     "metadata": {},
     "output_type": "display_data"
    },
    {
     "data": {
      "text/html": [
       "<pre style=\"white-space:pre;overflow-x:auto;line-height:normal;font-family:Menlo,'DejaVu Sans Mono',consolas,'Courier New',monospace\">╭─────────────────────────────── Youtube Subscriptions Copy ────────────────────────────────╮\n",
       "│                                                                                           │\n",
       "│ 1. Save subs list to csv.                                                                 │\n",
       "│                                                                                           │\n",
       "│ 2. Copy subs from csv.                                                                    │\n",
       "│                                                                                           │\n",
       "│ 3. Copy subs from one email to another.                                                   │\n",
       "│                                                                                           │\n",
       "│ 4. Exit.                                                                                  │\n",
       "│                                                                                           │\n",
       "╰───────────────────────────────────────────────────────────────────────────────────────────╯\n",
       "</pre>\n"
      ],
      "text/plain": [
       "<rich.jupyter.JupyterRenderable at 0x220fbcf1100>"
      ]
     },
     "metadata": {},
     "output_type": "display_data"
    },
    {
     "data": {
      "text/html": [
       "<pre style=\"white-space:pre;overflow-x:auto;line-height:normal;font-family:Menlo,'DejaVu Sans Mono',consolas,'Courier New',monospace\"></pre>\n"
      ],
      "text/plain": [
       "<rich.jupyter.JupyterRenderable at 0x220fd59a5e0>"
      ]
     },
     "metadata": {},
     "output_type": "display_data"
    },
    {
     "name": "stdout",
     "output_type": "stream",
     "text": [
      "Choose an option : 2\n"
     ]
    },
    {
     "data": {
      "text/html": [
       "<pre style=\"white-space:pre;overflow-x:auto;line-height:normal;font-family:Menlo,'DejaVu Sans Mono',consolas,'Courier New',monospace\"></pre>\n"
      ],
      "text/plain": [
       "<rich.jupyter.JupyterRenderable at 0x220fd5ec220>"
      ]
     },
     "metadata": {},
     "output_type": "display_data"
    },
    {
     "name": "stdout",
     "output_type": "stream",
     "text": [
      "Enter your email to which subs are to be copied : adityarangarajan8@gmail.com\n"
     ]
    },
    {
     "ename": "NameError",
     "evalue": "name 'track' is not defined",
     "output_type": "error",
     "traceback": [
      "\u001b[1;31m---------------------------------------------------------------------------\u001b[0m",
      "\u001b[1;31mNameError\u001b[0m                                 Traceback (most recent call last)",
      "\u001b[1;32m<ipython-input-9-460521d77ea1>\u001b[0m in \u001b[0;36m<module>\u001b[1;34m\u001b[0m\n\u001b[0;32m     34\u001b[0m             \u001b[0mtime\u001b[0m\u001b[1;33m.\u001b[0m\u001b[0msleep\u001b[0m\u001b[1;33m(\u001b[0m\u001b[1;36m2\u001b[0m\u001b[1;33m)\u001b[0m\u001b[1;33m\u001b[0m\u001b[1;33m\u001b[0m\u001b[0m\n\u001b[0;32m     35\u001b[0m             \u001b[1;32mbreak\u001b[0m\u001b[1;33m\u001b[0m\u001b[1;33m\u001b[0m\u001b[0m\n\u001b[1;32m---> 36\u001b[1;33m         \u001b[0msubscriber\u001b[0m\u001b[1;33m(\u001b[0m\u001b[0mchromedriver\u001b[0m\u001b[1;33m,\u001b[0m\u001b[0msubs_list\u001b[0m\u001b[1;33m)\u001b[0m\u001b[1;33m\u001b[0m\u001b[1;33m\u001b[0m\u001b[0m\n\u001b[0m\u001b[0;32m     37\u001b[0m         \u001b[0mchromedriver\u001b[0m\u001b[1;33m.\u001b[0m\u001b[0mclose\u001b[0m\u001b[1;33m(\u001b[0m\u001b[1;33m)\u001b[0m\u001b[1;33m\u001b[0m\u001b[1;33m\u001b[0m\u001b[0m\n\u001b[0;32m     38\u001b[0m     \u001b[1;32melif\u001b[0m\u001b[1;33m(\u001b[0m\u001b[0moption\u001b[0m \u001b[1;33m==\u001b[0m \u001b[1;34m\"3\"\u001b[0m\u001b[1;33m)\u001b[0m\u001b[1;33m:\u001b[0m\u001b[1;33m\u001b[0m\u001b[1;33m\u001b[0m\u001b[0m\n",
      "\u001b[1;32m<ipython-input-6-d256c4bc406a>\u001b[0m in \u001b[0;36msubscriber\u001b[1;34m(chromedriver, subs_list)\u001b[0m\n\u001b[0;32m      2\u001b[0m     \u001b[0msearch_xPath\u001b[0m \u001b[1;33m=\u001b[0m \u001b[1;34m'''//*[@id=\"search\"]'''\u001b[0m\u001b[1;33m\u001b[0m\u001b[1;33m\u001b[0m\u001b[0m\n\u001b[0;32m      3\u001b[0m     \u001b[0msub_btn_xPath\u001b[0m \u001b[1;33m=\u001b[0m \u001b[1;34m'''//*[@id=\"subscribe-button\"]/ytd-subscribe-button-renderer/paper-button'''\u001b[0m\u001b[1;33m\u001b[0m\u001b[1;33m\u001b[0m\u001b[0m\n\u001b[1;32m----> 4\u001b[1;33m     \u001b[1;32mfor\u001b[0m \u001b[0mcname\u001b[0m \u001b[1;32min\u001b[0m \u001b[0mtrack\u001b[0m\u001b[1;33m(\u001b[0m\u001b[0msubs_list\u001b[0m\u001b[1;33m,\u001b[0m\u001b[0mdescription\u001b[0m\u001b[1;33m=\u001b[0m\u001b[1;34m\"Subscribing\"\u001b[0m\u001b[1;33m)\u001b[0m\u001b[1;33m:\u001b[0m\u001b[1;33m\u001b[0m\u001b[1;33m\u001b[0m\u001b[0m\n\u001b[0m\u001b[0;32m      5\u001b[0m         \u001b[0mchromedriver\u001b[0m\u001b[1;33m.\u001b[0m\u001b[0mget\u001b[0m\u001b[1;33m(\u001b[0m\u001b[1;34m'''https://youtube.com'''\u001b[0m\u001b[1;33m)\u001b[0m\u001b[1;33m\u001b[0m\u001b[1;33m\u001b[0m\u001b[0m\n\u001b[0;32m      6\u001b[0m         \u001b[0msearch\u001b[0m \u001b[1;33m=\u001b[0m \u001b[0mwait\u001b[0m\u001b[1;33m.\u001b[0m\u001b[0muntil\u001b[0m\u001b[1;33m(\u001b[0m\u001b[0mEC\u001b[0m\u001b[1;33m.\u001b[0m\u001b[0melement_to_be_clickable\u001b[0m\u001b[1;33m(\u001b[0m\u001b[1;33m(\u001b[0m\u001b[0mBy\u001b[0m\u001b[1;33m.\u001b[0m\u001b[0mXPATH\u001b[0m\u001b[1;33m,\u001b[0m\u001b[0msearch_xPath\u001b[0m\u001b[1;33m)\u001b[0m\u001b[1;33m)\u001b[0m\u001b[1;33m)\u001b[0m\u001b[1;33m\u001b[0m\u001b[1;33m\u001b[0m\u001b[0m\n",
      "\u001b[1;31mNameError\u001b[0m: name 'track' is not defined"
     ]
    }
   ],
   "source": [
    "menu = '''\n",
    "1. Save subs list to csv.\\n\n",
    "2. Copy subs from csv.\\n\n",
    "3. Copy subs from one email to another.\\n\n",
    "4. Exit.\\n'''\n",
    "os.system('cls')\n",
    "print(\"Copying chrome data.....\")\n",
    "copy_data_folder()\n",
    "print(\"Copying finished.\")\n",
    "time.sleep(2)\n",
    "os.system('cls')\n",
    "subs_list = None\n",
    "while True:\n",
    "    os.system('cls')\n",
    "    print(Panel(menu, title=\"Youtube Subscriptions Copy\"))\n",
    "    console = Console()\n",
    "    option = console.input(\"Choose an option : \")\n",
    "    os.system('cls')\n",
    "    if(option == \"1\"):\n",
    "        email = console.input(\"Enter your email : \")\n",
    "        chromedriver,wait = setup_drivers()\n",
    "        switch_acc(chromedriver,wait,email)\n",
    "        get_subscriptions(chromedriver,save_to_file=True)\n",
    "        chromedriver.close()\n",
    "    elif(option == \"2\"):\n",
    "        Tk().withdraw()\n",
    "        chromedriver,wait = setup_drivers()\n",
    "        filename = askopenfilename(filetypes=[(\"CSV Files\",\"*.csv\")])\n",
    "        subs_list = list(np.genfromtxt(filename,delimiter=\",\",dtype=str,encoding=\"utf-8\"))\n",
    "        email = console.input(\"Enter your email to which subs are to be copied : \")\n",
    "        r = switch_acc(chromedriver,wait,email)\n",
    "        if(r == False):\n",
    "            print(\"Email not found...\")\n",
    "            time.sleep(2)\n",
    "            break\n",
    "        subscriber(chromedriver,subs_list)\n",
    "        chromedriver.close()\n",
    "    elif(option == \"3\"):\n",
    "        email1 = console.input(\"Enter your email from which subs are to be taken : \")\n",
    "        chromedriver,wait = setup_drivers()\n",
    "        r = switch_acc(chromedriver,wait,email1)\n",
    "        if(r == False):\n",
    "            print(\"Email not found...\")\n",
    "            time.sleep(2)\n",
    "            break\n",
    "        subs_list = get_subscriptions(chromedriver)\n",
    "        os.system('cls')\n",
    "        email2 = console.input(\"Enter your email to which subs are to be copied : \")\n",
    "        r = switch_acc(chromedriver,wait,email2)\n",
    "        if(r == False):\n",
    "            print(\"Email not found...\")\n",
    "            time.sleep(2)\n",
    "            break\n",
    "        subscriber(chromedriver,subs_list)\n",
    "        chromedriver.close()\n",
    "    elif(option == \"4\"):\n",
    "        exit_program()"
   ]
  },
  {
   "cell_type": "code",
   "execution_count": null,
   "metadata": {},
   "outputs": [],
   "source": [
    "\n"
   ]
  },
  {
   "cell_type": "code",
   "execution_count": null,
   "metadata": {},
   "outputs": [],
   "source": []
  }
 ],
 "metadata": {
  "kernelspec": {
   "display_name": "Python 3",
   "language": "python",
   "name": "python3"
  },
  "language_info": {
   "codemirror_mode": {
    "name": "ipython",
    "version": 3
   },
   "file_extension": ".py",
   "mimetype": "text/x-python",
   "name": "python",
   "nbconvert_exporter": "python",
   "pygments_lexer": "ipython3",
   "version": "3.8.5"
  }
 },
 "nbformat": 4,
 "nbformat_minor": 4
}
